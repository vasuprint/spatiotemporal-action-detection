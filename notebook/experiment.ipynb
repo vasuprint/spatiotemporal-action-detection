{
 "cells": [
  {
   "cell_type": "code",
   "execution_count": 4,
   "metadata": {},
   "outputs": [],
   "source": [
    "import torch\n",
    "import torchvision\n",
    "import cv2\n",
    "import numpy as np\n",
    "from ultralytics import YOLO\n",
    "import matplotlib.pyplot as plt\n",
    "%matplotlib inline"
   ]
  },
  {
   "cell_type": "code",
   "execution_count": null,
   "metadata": {},
   "outputs": [],
   "source": [
    "# Load Ultralytics YOLOv11 model\n",
    "model = YOLO('yolo11n.pt')  # Make sure to use your model path\n",
    "\n",
    "# Perform prediction and extract features\n",
    "results = model.predict('./sample/1.png', embed=[10, 14, 17])  # Adjust layers as needed\n",
    "\n",
    "print(f\"Results: {results}\")\n",
    "\n",
    "# Access the embeddings\n",
    "features = results.embeddings"
   ]
  }
 ],
 "metadata": {
  "kernelspec": {
   "display_name": "YOLO11_git",
   "language": "python",
   "name": "python3"
  },
  "language_info": {
   "codemirror_mode": {
    "name": "ipython",
    "version": 3
   },
   "file_extension": ".py",
   "mimetype": "text/x-python",
   "name": "python",
   "nbconvert_exporter": "python",
   "pygments_lexer": "ipython3",
   "version": "3.10.10"
  }
 },
 "nbformat": 4,
 "nbformat_minor": 2
}
